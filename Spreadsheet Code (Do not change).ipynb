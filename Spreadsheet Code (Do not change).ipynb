{
 "cells": [
  {
   "cell_type": "code",
   "execution_count": 1,
   "id": "76f33ad5",
   "metadata": {},
   "outputs": [],
   "source": [
    "#import dependencies\n",
    "import pandas as pd"
   ]
  },
  {
   "cell_type": "code",
   "execution_count": 2,
   "id": "bb602854",
   "metadata": {},
   "outputs": [],
   "source": [
    "# read in desired state.xlsx\n",
    "df1 = pd.read_excel('co.xlsx')"
   ]
  },
  {
   "cell_type": "code",
   "execution_count": 3,
   "id": "8a3c9cb5",
   "metadata": {},
   "outputs": [],
   "source": [
    "#read in target output sheet.xlsx\n",
    "df2 = pd.read_excel('State_Target.xlsx')"
   ]
  },
  {
   "cell_type": "code",
   "execution_count": 4,
   "id": "671c3d85",
   "metadata": {},
   "outputs": [],
   "source": [
    "##getting data from Source sheet for inserting into target.xlsx\n",
    "data1 = df1[[\"Name\", \"Education\",\"Profile Link\",\"Licensed in \",\"Practice areas\",\"Company\",\"Google Maps (Rating, 1-5)\",\"Google Maps (# of Reviews)\",\"City\"]]"
   ]
  },
  {
   "cell_type": "code",
   "execution_count": 5,
   "id": "adc57d32",
   "metadata": {},
   "outputs": [],
   "source": [
    "# Adding the data from the first CSV file to the second  file, in the specified columns\n",
    "df2[\"Lawyer Name\"] = data1[\"Name\"]\n",
    "df2[\"Practice areas\"] = data1[\"Practice areas\"]\n",
    "df2[\"Law school attended\"] = data1[\"Education\"]\n",
    "df2[\"Profile Link (SuperLawyers)\"] = data1[\"Profile Link\"]\n",
    "df2[\"License Date\"] = data1[\"Licensed in \"]\n",
    "df2[\"Google Maps\\n(Rating, 1-5)\"] = data1[\"Google Maps (Rating, 1-5)\"]\n",
    "df2[\"Google Maps\\n(# of Reviews)\"] = data1[\"Google Maps (# of Reviews)\"]\n",
    "df2[\"Google Maps\\nCompany's City\"] = data1[\"City\"]\n",
    "df2[\"Law Firm\"] =data1[\"Company\"]"
   ]
  },
  {
   "cell_type": "code",
   "execution_count": 6,
   "id": "560468e5-fa4a-404c-9713-76dabeb0dc53",
   "metadata": {},
   "outputs": [
    {
     "data": {
      "text/html": [
       "<div>\n",
       "<style scoped>\n",
       "    .dataframe tbody tr th:only-of-type {\n",
       "        vertical-align: middle;\n",
       "    }\n",
       "\n",
       "    .dataframe tbody tr th {\n",
       "        vertical-align: top;\n",
       "    }\n",
       "\n",
       "    .dataframe thead th {\n",
       "        text-align: right;\n",
       "    }\n",
       "</style>\n",
       "<table border=\"1\" class=\"dataframe\">\n",
       "  <thead>\n",
       "    <tr style=\"text-align: right;\">\n",
       "      <th></th>\n",
       "      <th>Lawyer Name</th>\n",
       "      <th>Law school attended</th>\n",
       "      <th>Profile Link (SuperLawyers)</th>\n",
       "      <th>License Date</th>\n",
       "      <th>Google Maps\\n(Rating, 1-5)</th>\n",
       "      <th>Google Maps\\n(# of Reviews)</th>\n",
       "      <th>Google Maps\\nCompany's City</th>\n",
       "      <th>Google Maps\\nCompany's State</th>\n",
       "      <th>Law Firm</th>\n",
       "      <th>Practice areas</th>\n",
       "    </tr>\n",
       "  </thead>\n",
       "  <tbody>\n",
       "    <tr>\n",
       "      <th>0</th>\n",
       "      <td>Aaron J. Conrardy</td>\n",
       "      <td>Marquette University Law School</td>\n",
       "      <td>https://profiles.superlawyers.com/colorado/lit...</td>\n",
       "      <td>Colorado since: 2008</td>\n",
       "      <td>3.7</td>\n",
       "      <td>3</td>\n",
       "      <td>Littleton</td>\n",
       "      <td>NaN</td>\n",
       "      <td>Wadsworth Garber Warner Conrardy, P.C.</td>\n",
       "      <td>NaN</td>\n",
       "    </tr>\n",
       "    <tr>\n",
       "      <th>1</th>\n",
       "      <td>Aaron Hyatt</td>\n",
       "      <td>University of Colorado Law School</td>\n",
       "      <td>https://profiles.superlawyers.com/colorado/den...</td>\n",
       "      <td>Colorado since: 2001</td>\n",
       "      <td>3.3</td>\n",
       "      <td>7</td>\n",
       "      <td>Denver</td>\n",
       "      <td>NaN</td>\n",
       "      <td>Brownstein Hyatt Farber Schreck, LLP</td>\n",
       "      <td>NaN</td>\n",
       "    </tr>\n",
       "    <tr>\n",
       "      <th>2</th>\n",
       "      <td>Aaron Israels</td>\n",
       "      <td>University of Detroit Mercy School of Law</td>\n",
       "      <td>https://profiles.superlawyers.com/colorado/den...</td>\n",
       "      <td>Colorado since: 2010</td>\n",
       "      <td>Can't found</td>\n",
       "      <td>NaN</td>\n",
       "      <td>Denver</td>\n",
       "      <td>NaN</td>\n",
       "      <td>Israels &amp; Neuman, PLC</td>\n",
       "      <td>NaN</td>\n",
       "    </tr>\n",
       "    <tr>\n",
       "      <th>3</th>\n",
       "      <td>Aaron L. Solomon</td>\n",
       "      <td>The University of Chicago Law School</td>\n",
       "      <td>https://profiles.superlawyers.com/colorado/den...</td>\n",
       "      <td>Colorado since: 2007</td>\n",
       "      <td>No review</td>\n",
       "      <td>NaN</td>\n",
       "      <td>Denver</td>\n",
       "      <td>NaN</td>\n",
       "      <td>Hale Westfall, LLP</td>\n",
       "      <td>NaN</td>\n",
       "    </tr>\n",
       "    <tr>\n",
       "      <th>4</th>\n",
       "      <td>Abraham Hutt</td>\n",
       "      <td>University of Southern California Gould School...</td>\n",
       "      <td>https://profiles.superlawyers.com/colorado/den...</td>\n",
       "      <td>Colorado since: 1984</td>\n",
       "      <td>Can't found</td>\n",
       "      <td>NaN</td>\n",
       "      <td>Denver</td>\n",
       "      <td>NaN</td>\n",
       "      <td>Recht Kornfeld PC</td>\n",
       "      <td>NaN</td>\n",
       "    </tr>\n",
       "  </tbody>\n",
       "</table>\n",
       "</div>"
      ],
      "text/plain": [
       "         Lawyer Name                                Law school attended  \\\n",
       "0  Aaron J. Conrardy                    Marquette University Law School   \n",
       "1        Aaron Hyatt                  University of Colorado Law School   \n",
       "2      Aaron Israels          University of Detroit Mercy School of Law   \n",
       "3   Aaron L. Solomon               The University of Chicago Law School   \n",
       "4       Abraham Hutt  University of Southern California Gould School...   \n",
       "\n",
       "                         Profile Link (SuperLawyers)          License Date  \\\n",
       "0  https://profiles.superlawyers.com/colorado/lit...  Colorado since: 2008   \n",
       "1  https://profiles.superlawyers.com/colorado/den...  Colorado since: 2001   \n",
       "2  https://profiles.superlawyers.com/colorado/den...  Colorado since: 2010   \n",
       "3  https://profiles.superlawyers.com/colorado/den...  Colorado since: 2007   \n",
       "4  https://profiles.superlawyers.com/colorado/den...  Colorado since: 1984   \n",
       "\n",
       "  Google Maps\\n(Rating, 1-5) Google Maps\\n(# of Reviews)  \\\n",
       "0                        3.7                           3   \n",
       "1                        3.3                           7   \n",
       "2                Can't found                         NaN   \n",
       "3                  No review                         NaN   \n",
       "4                Can't found                         NaN   \n",
       "\n",
       "  Google Maps\\nCompany's City  Google Maps\\nCompany's State  \\\n",
       "0                   Littleton                           NaN   \n",
       "1                      Denver                           NaN   \n",
       "2                      Denver                           NaN   \n",
       "3                      Denver                           NaN   \n",
       "4                      Denver                           NaN   \n",
       "\n",
       "                                 Law Firm Practice areas  \n",
       "0  Wadsworth Garber Warner Conrardy, P.C.            NaN  \n",
       "1    Brownstein Hyatt Farber Schreck, LLP            NaN  \n",
       "2                   Israels & Neuman, PLC            NaN  \n",
       "3                      Hale Westfall, LLP            NaN  \n",
       "4                       Recht Kornfeld PC            NaN  "
      ]
     },
     "execution_count": 6,
     "metadata": {},
     "output_type": "execute_result"
    }
   ],
   "source": [
    "df2.head()"
   ]
  },
  {
   "cell_type": "code",
   "execution_count": 7,
   "id": "cd142d65-f908-4f92-964d-53b6211965cd",
   "metadata": {},
   "outputs": [
    {
     "data": {
      "text/plain": [
       "Lawyer Name                        0\n",
       "Law school attended               18\n",
       "Profile Link (SuperLawyers)        0\n",
       "License Date                      18\n",
       "Google Maps\\n(Rating, 1-5)         0\n",
       "Google Maps\\n(# of Reviews)      958\n",
       "Google Maps\\nCompany's City        0\n",
       "Google Maps\\nCompany's State    3604\n",
       "Law Firm                           0\n",
       "Practice areas                  3010\n",
       "dtype: int64"
      ]
     },
     "execution_count": 7,
     "metadata": {},
     "output_type": "execute_result"
    }
   ],
   "source": [
    "# Determine if there are any missing values in the Bestlawyers data.\n",
    "df2.isnull().sum()"
   ]
  },
  {
   "cell_type": "code",
   "execution_count": 8,
   "id": "e33d2569-26e8-455b-ae67-4ff5789b16fd",
   "metadata": {},
   "outputs": [],
   "source": [
    "# Specify the column name from which you want to drop null values\n",
    "column_name = 'Lawyer Name'"
   ]
  },
  {
   "cell_type": "code",
   "execution_count": 9,
   "id": "c62bc228-ef9e-4f1d-b824-a795e28df325",
   "metadata": {},
   "outputs": [],
   "source": [
    "# Drop null values from the specified column\n",
    "df2.dropna(subset=[column_name], inplace=True)"
   ]
  },
  {
   "cell_type": "code",
   "execution_count": 10,
   "id": "0fa37f3c-6617-40f5-a495-b20dc8f5c4d8",
   "metadata": {},
   "outputs": [
    {
     "data": {
      "text/plain": [
       "Lawyer Name                        0\n",
       "Law school attended               18\n",
       "Profile Link (SuperLawyers)        0\n",
       "License Date                      18\n",
       "Google Maps\\n(Rating, 1-5)         0\n",
       "Google Maps\\n(# of Reviews)      958\n",
       "Google Maps\\nCompany's City        0\n",
       "Google Maps\\nCompany's State    3604\n",
       "Law Firm                           0\n",
       "Practice areas                  3010\n",
       "dtype: int64"
      ]
     },
     "execution_count": 10,
     "metadata": {},
     "output_type": "execute_result"
    }
   ],
   "source": [
    "# Determine if there are any missing values in the Bestlawyers data.\n",
    "df2.isnull().sum()"
   ]
  },
  {
   "cell_type": "code",
   "execution_count": 11,
   "id": "f7ee19f5",
   "metadata": {},
   "outputs": [],
   "source": [
    "#export the data into the target.xlsx\n",
    "df2.to_excel(\"State_Target.xlsx\", index=False)"
   ]
  },
  {
   "cell_type": "code",
   "execution_count": null,
   "id": "b8395d4f",
   "metadata": {},
   "outputs": [],
   "source": []
  },
  {
   "cell_type": "code",
   "execution_count": null,
   "id": "658f1cd8",
   "metadata": {},
   "outputs": [],
   "source": []
  }
 ],
 "metadata": {
  "kernelspec": {
   "display_name": "Python 3 (ipykernel)",
   "language": "python",
   "name": "python3"
  },
  "language_info": {
   "codemirror_mode": {
    "name": "ipython",
    "version": 3
   },
   "file_extension": ".py",
   "mimetype": "text/x-python",
   "name": "python",
   "nbconvert_exporter": "python",
   "pygments_lexer": "ipython3",
   "version": "3.7.13"
  }
 },
 "nbformat": 4,
 "nbformat_minor": 5
}
